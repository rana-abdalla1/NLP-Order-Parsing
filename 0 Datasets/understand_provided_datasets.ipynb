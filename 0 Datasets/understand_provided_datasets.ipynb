{
 "cells": [
  {
   "cell_type": "markdown",
   "metadata": {},
   "source": [
    "# Understanding the Different Fields in the Input Data\n",
    "\n",
    "The data is in the form of a JSON file. The JSON file contains the following fields:\n",
    "\n",
    "train.SRC field:\n",
    "- This field contains the source text of the training data.\n",
    "- Example: \"can i have a large bbq pulled pork\"\n",
    "\n",
    "train.EXR field:\n",
    "- This field contains the expected response or the structured representation of the order.\n",
    "- Example: \"(ORDER (PIZZAORDER (NUMBER 1 ) (SIZE LARGE ) (TOPPING BBQ_PULLED_PORK ) ) )\"\n",
    "\n",
    "train.TOP field:\n",
    "- This field contains the top-level representation of the order, which might include additional context or phrasing.\n",
    "- Example: \"(ORDER can i have (PIZZAORDER (NUMBER a ) (SIZE large ) (TOPPING bbq pulled pork ) ) )\"\n",
    "\n",
    "train.TOP-DECOUPLED field:\n",
    "- This field contains a decoupled version of the top-level representation, focusing more on the structured data without additional context or phrasing.\n",
    "- Example: \"(ORDER (PIZZAORDER (NUMBER a ) (SIZE large ) (TOPPING bbq pulled pork ) ) )\""
   ]
  }
 ],
 "metadata": {
  "language_info": {
   "name": "python"
  }
 },
 "nbformat": 4,
 "nbformat_minor": 2
}
